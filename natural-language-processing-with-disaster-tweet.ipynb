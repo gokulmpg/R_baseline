{
 "cells": [
  {
   "cell_type": "code",
   "execution_count": 1,
   "id": "00851fc4",
   "metadata": {
    "execution": {
     "iopub.execute_input": "2023-06-22T08:36:32.228617Z",
     "iopub.status.busy": "2023-06-22T08:36:32.228230Z",
     "iopub.status.idle": "2023-06-22T08:36:33.936409Z",
     "shell.execute_reply": "2023-06-22T08:36:33.935500Z"
    },
    "papermill": {
     "duration": 1.716437,
     "end_time": "2023-06-22T08:36:33.939055",
     "exception": false,
     "start_time": "2023-06-22T08:36:32.222618",
     "status": "completed"
    },
    "tags": []
   },
   "outputs": [],
   "source": [
    "import pandas as pd\n",
    "import numpy as np\n",
    "import matplotlib as plt\n",
    "import seaborn as sns"
   ]
  },
  {
   "cell_type": "code",
   "execution_count": 2,
   "id": "a99c6211",
   "metadata": {
    "_execution_state": "idle",
    "_uuid": "051d70d956493feee0c6d64651c6a088724dca2a",
    "execution": {
     "iopub.execute_input": "2023-06-22T08:36:33.948474Z",
     "iopub.status.busy": "2023-06-22T08:36:33.948008Z",
     "iopub.status.idle": "2023-06-22T08:36:34.070657Z",
     "shell.execute_reply": "2023-06-22T08:36:34.069751Z"
    },
    "papermill": {
     "duration": 0.130513,
     "end_time": "2023-06-22T08:36:34.073353",
     "exception": false,
     "start_time": "2023-06-22T08:36:33.942840",
     "status": "completed"
    },
    "tags": []
   },
   "outputs": [],
   "source": [
    "test = pd.read_csv(\"../input/nlp-getting-started/test.csv\") \n",
    "train = pd.read_csv(\"../input/nlp-getting-started/train.csv\") \n",
    "sample = pd.read_csv(\"../input/nlp-getting-started/sample_submission.csv\") "
   ]
  },
  {
   "cell_type": "code",
   "execution_count": 3,
   "id": "d13d7ddf",
   "metadata": {
    "execution": {
     "iopub.execute_input": "2023-06-22T08:36:34.082619Z",
     "iopub.status.busy": "2023-06-22T08:36:34.081862Z",
     "iopub.status.idle": "2023-06-22T08:36:34.116309Z",
     "shell.execute_reply": "2023-06-22T08:36:34.115089Z"
    },
    "papermill": {
     "duration": 0.04192,
     "end_time": "2023-06-22T08:36:34.119021",
     "exception": false,
     "start_time": "2023-06-22T08:36:34.077101",
     "status": "completed"
    },
    "tags": []
   },
   "outputs": [
    {
     "data": {
      "text/html": [
       "<div>\n",
       "<style scoped>\n",
       "    .dataframe tbody tr th:only-of-type {\n",
       "        vertical-align: middle;\n",
       "    }\n",
       "\n",
       "    .dataframe tbody tr th {\n",
       "        vertical-align: top;\n",
       "    }\n",
       "\n",
       "    .dataframe thead th {\n",
       "        text-align: right;\n",
       "    }\n",
       "</style>\n",
       "<table border=\"1\" class=\"dataframe\">\n",
       "  <thead>\n",
       "    <tr style=\"text-align: right;\">\n",
       "      <th></th>\n",
       "      <th>id</th>\n",
       "      <th>keyword</th>\n",
       "      <th>location</th>\n",
       "      <th>text</th>\n",
       "    </tr>\n",
       "  </thead>\n",
       "  <tbody>\n",
       "    <tr>\n",
       "      <th>0</th>\n",
       "      <td>0</td>\n",
       "      <td>NaN</td>\n",
       "      <td>NaN</td>\n",
       "      <td>Just happened a terrible car crash</td>\n",
       "    </tr>\n",
       "    <tr>\n",
       "      <th>1</th>\n",
       "      <td>2</td>\n",
       "      <td>NaN</td>\n",
       "      <td>NaN</td>\n",
       "      <td>Heard about #earthquake is different cities, s...</td>\n",
       "    </tr>\n",
       "  </tbody>\n",
       "</table>\n",
       "</div>"
      ],
      "text/plain": [
       "   id keyword location                                               text\n",
       "0   0     NaN      NaN                 Just happened a terrible car crash\n",
       "1   2     NaN      NaN  Heard about #earthquake is different cities, s..."
      ]
     },
     "execution_count": 3,
     "metadata": {},
     "output_type": "execute_result"
    }
   ],
   "source": [
    "test.head(2)"
   ]
  },
  {
   "cell_type": "code",
   "execution_count": 4,
   "id": "6d9f2e9f",
   "metadata": {
    "execution": {
     "iopub.execute_input": "2023-06-22T08:36:34.128047Z",
     "iopub.status.busy": "2023-06-22T08:36:34.127626Z",
     "iopub.status.idle": "2023-06-22T08:36:34.139848Z",
     "shell.execute_reply": "2023-06-22T08:36:34.138988Z"
    },
    "papermill": {
     "duration": 0.019316,
     "end_time": "2023-06-22T08:36:34.142018",
     "exception": false,
     "start_time": "2023-06-22T08:36:34.122702",
     "status": "completed"
    },
    "tags": []
   },
   "outputs": [
    {
     "data": {
      "text/html": [
       "<div>\n",
       "<style scoped>\n",
       "    .dataframe tbody tr th:only-of-type {\n",
       "        vertical-align: middle;\n",
       "    }\n",
       "\n",
       "    .dataframe tbody tr th {\n",
       "        vertical-align: top;\n",
       "    }\n",
       "\n",
       "    .dataframe thead th {\n",
       "        text-align: right;\n",
       "    }\n",
       "</style>\n",
       "<table border=\"1\" class=\"dataframe\">\n",
       "  <thead>\n",
       "    <tr style=\"text-align: right;\">\n",
       "      <th></th>\n",
       "      <th>id</th>\n",
       "      <th>keyword</th>\n",
       "      <th>location</th>\n",
       "      <th>text</th>\n",
       "      <th>target</th>\n",
       "    </tr>\n",
       "  </thead>\n",
       "  <tbody>\n",
       "    <tr>\n",
       "      <th>0</th>\n",
       "      <td>1</td>\n",
       "      <td>NaN</td>\n",
       "      <td>NaN</td>\n",
       "      <td>Our Deeds are the Reason of this #earthquake M...</td>\n",
       "      <td>1</td>\n",
       "    </tr>\n",
       "    <tr>\n",
       "      <th>1</th>\n",
       "      <td>4</td>\n",
       "      <td>NaN</td>\n",
       "      <td>NaN</td>\n",
       "      <td>Forest fire near La Ronge Sask. Canada</td>\n",
       "      <td>1</td>\n",
       "    </tr>\n",
       "  </tbody>\n",
       "</table>\n",
       "</div>"
      ],
      "text/plain": [
       "   id keyword location                                               text  \\\n",
       "0   1     NaN      NaN  Our Deeds are the Reason of this #earthquake M...   \n",
       "1   4     NaN      NaN             Forest fire near La Ronge Sask. Canada   \n",
       "\n",
       "   target  \n",
       "0       1  \n",
       "1       1  "
      ]
     },
     "execution_count": 4,
     "metadata": {},
     "output_type": "execute_result"
    }
   ],
   "source": [
    "train.head(2)"
   ]
  },
  {
   "cell_type": "code",
   "execution_count": 5,
   "id": "e7cb56bf",
   "metadata": {
    "execution": {
     "iopub.execute_input": "2023-06-22T08:36:34.151690Z",
     "iopub.status.busy": "2023-06-22T08:36:34.151001Z",
     "iopub.status.idle": "2023-06-22T08:36:34.160628Z",
     "shell.execute_reply": "2023-06-22T08:36:34.159273Z"
    },
    "papermill": {
     "duration": 0.017781,
     "end_time": "2023-06-22T08:36:34.163554",
     "exception": false,
     "start_time": "2023-06-22T08:36:34.145773",
     "status": "completed"
    },
    "tags": []
   },
   "outputs": [
    {
     "data": {
      "text/html": [
       "<div>\n",
       "<style scoped>\n",
       "    .dataframe tbody tr th:only-of-type {\n",
       "        vertical-align: middle;\n",
       "    }\n",
       "\n",
       "    .dataframe tbody tr th {\n",
       "        vertical-align: top;\n",
       "    }\n",
       "\n",
       "    .dataframe thead th {\n",
       "        text-align: right;\n",
       "    }\n",
       "</style>\n",
       "<table border=\"1\" class=\"dataframe\">\n",
       "  <thead>\n",
       "    <tr style=\"text-align: right;\">\n",
       "      <th></th>\n",
       "      <th>id</th>\n",
       "      <th>target</th>\n",
       "    </tr>\n",
       "  </thead>\n",
       "  <tbody>\n",
       "    <tr>\n",
       "      <th>0</th>\n",
       "      <td>0</td>\n",
       "      <td>0</td>\n",
       "    </tr>\n",
       "    <tr>\n",
       "      <th>1</th>\n",
       "      <td>2</td>\n",
       "      <td>0</td>\n",
       "    </tr>\n",
       "  </tbody>\n",
       "</table>\n",
       "</div>"
      ],
      "text/plain": [
       "   id  target\n",
       "0   0       0\n",
       "1   2       0"
      ]
     },
     "execution_count": 5,
     "metadata": {},
     "output_type": "execute_result"
    }
   ],
   "source": [
    "sample.head(2)"
   ]
  },
  {
   "cell_type": "code",
   "execution_count": 6,
   "id": "3b95e34a",
   "metadata": {
    "execution": {
     "iopub.execute_input": "2023-06-22T08:36:34.173977Z",
     "iopub.status.busy": "2023-06-22T08:36:34.173518Z",
     "iopub.status.idle": "2023-06-22T08:36:34.186453Z",
     "shell.execute_reply": "2023-06-22T08:36:34.184816Z"
    },
    "papermill": {
     "duration": 0.02133,
     "end_time": "2023-06-22T08:36:34.189223",
     "exception": false,
     "start_time": "2023-06-22T08:36:34.167893",
     "status": "completed"
    },
    "tags": []
   },
   "outputs": [
    {
     "name": "stdout",
     "output_type": "stream",
     "text": [
      "[    0     2     3 ... 10868 10874 10875]\n",
      "(3263, 4)\n"
     ]
    }
   ],
   "source": [
    "print(test['id'].unique())\n",
    "print(test.shape)"
   ]
  },
  {
   "cell_type": "code",
   "execution_count": null,
   "id": "1db6df69",
   "metadata": {
    "papermill": {
     "duration": 0.003681,
     "end_time": "2023-06-22T08:36:34.196996",
     "exception": false,
     "start_time": "2023-06-22T08:36:34.193315",
     "status": "completed"
    },
    "tags": []
   },
   "outputs": [],
   "source": []
  }
 ],
 "metadata": {
  "kernelspec": {
   "display_name": "Python 3",
   "language": "python",
   "name": "python3"
  },
  "language_info": {
   "codemirror_mode": {
    "name": "ipython",
    "version": 3
   },
   "file_extension": ".py",
   "mimetype": "text/x-python",
   "name": "python",
   "nbconvert_exporter": "python",
   "pygments_lexer": "ipython3",
   "version": "3.10.10"
  },
  "papermill": {
   "default_parameters": {},
   "duration": 16.426618,
   "end_time": "2023-06-22T08:36:35.224622",
   "environment_variables": {},
   "exception": null,
   "input_path": "__notebook__.ipynb",
   "output_path": "__notebook__.ipynb",
   "parameters": {},
   "start_time": "2023-06-22T08:36:18.798004",
   "version": "2.4.0"
  }
 },
 "nbformat": 4,
 "nbformat_minor": 5
}
