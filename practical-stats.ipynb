{
 "cells": [
  {
   "cell_type": "code",
   "execution_count": 1,
   "id": "5738ee3b",
   "metadata": {
    "_cell_guid": "b1076dfc-b9ad-4769-8c92-a6c4dae69d19",
    "_uuid": "8f2839f25d086af736a60e9eeb907d3b93b6e0e5",
    "execution": {
     "iopub.execute_input": "2023-08-24T18:28:02.833879Z",
     "iopub.status.busy": "2023-08-24T18:28:02.833447Z",
     "iopub.status.idle": "2023-08-24T18:28:02.845104Z",
     "shell.execute_reply": "2023-08-24T18:28:02.843681Z"
    },
    "papermill": {
     "duration": 0.020184,
     "end_time": "2023-08-24T18:28:02.847131",
     "exception": false,
     "start_time": "2023-08-24T18:28:02.826947",
     "status": "completed"
    },
    "tags": []
   },
   "outputs": [],
   "source": [
    "# This Python 3 environment comes with many helpful analytics libraries installed\n",
    "# It is defined by the kaggle/python Docker image: https://github.com/kaggle/docker-python\n",
    "# For example, here's several helpful packages to load\n",
    "\n",
    "import numpy as np # linear algebra\n",
    "import pandas as pd # data processing, CSV file I/O (e.g. pd.read_csv)\n",
    "\n",
    "# Input data files are available in the read-only \"../input/\" directory\n",
    "# For example, running this (by clicking run or pressing Shift+Enter) will list all files under the input directory\n",
    "\n",
    "import os\n",
    "for dirname, _, filenames in os.walk('/kaggle/input'):\n",
    "    for filename in filenames:\n",
    "        print(os.path.join(dirname, filename))\n",
    "\n",
    "# You can write up to 20GB to the current directory (/kaggle/working/) that gets preserved as output when you create a version using \"Save & Run All\" \n",
    "# You can also write temporary files to /kaggle/temp/, but they won't be saved outside of the current session"
   ]
  },
  {
   "cell_type": "markdown",
   "id": "d066eeaf",
   "metadata": {
    "papermill": {
     "duration": 0.003719,
     "end_time": "2023-08-24T18:28:02.855084",
     "exception": false,
     "start_time": "2023-08-24T18:28:02.851365",
     "status": "completed"
    },
    "tags": []
   },
   "source": [
    "**Key Data Types**\n",
    "\n",
    "\n",
    "Numeric:\n",
    "    Data in numeric format.\n",
    "    Continous\n",
    "        - Float, Decimal or Interval;\n",
    "    Discrete\n",
    "        - Integer, Count.\n",
    "        \n",
    "Categorical:\n",
    "    Data that can take only a set of values\n",
    "    Binary\n",
    "        - Logical, Boolean;\n",
    "    Ordinal\n",
    "        - Explicit ordering(orderes Factors).\n",
    "        "
   ]
  },
  {
   "cell_type": "code",
   "execution_count": 2,
   "id": "74509afc",
   "metadata": {
    "execution": {
     "iopub.execute_input": "2023-08-24T18:28:02.864630Z",
     "iopub.status.busy": "2023-08-24T18:28:02.864305Z",
     "iopub.status.idle": "2023-08-24T18:28:02.888311Z",
     "shell.execute_reply": "2023-08-24T18:28:02.887099Z"
    },
    "papermill": {
     "duration": 0.032034,
     "end_time": "2023-08-24T18:28:02.891133",
     "exception": false,
     "start_time": "2023-08-24T18:28:02.859099",
     "status": "completed"
    },
    "tags": []
   },
   "outputs": [
    {
     "data": {
      "text/plain": [
       "A           float64\n",
       "B             int64\n",
       "C            object\n",
       "D    datetime64[ns]\n",
       "E           float32\n",
       "F              bool\n",
       "G              int8\n",
       "dtype: object"
      ]
     },
     "execution_count": 2,
     "metadata": {},
     "output_type": "execute_result"
    }
   ],
   "source": [
    "dft = pd.DataFrame(\n",
    "    {\n",
    "        \"A\": np.random.rand(3),\n",
    "        \"B\": 1,\n",
    "        \"C\": \"foo\",\n",
    "        \"D\": pd.Timestamp(\"20010102\"),\n",
    "        \"E\": pd.Series([1.0] * 3).astype(\"float32\"),\n",
    "        \"F\": False,\n",
    "        \"G\": pd.Series([1] * 3, dtype=\"int8\"),\n",
    "    }\n",
    ")\n",
    "dft.dtypes"
   ]
  },
  {
   "cell_type": "code",
   "execution_count": 3,
   "id": "4ee27c7d",
   "metadata": {
    "execution": {
     "iopub.execute_input": "2023-08-24T18:28:02.901879Z",
     "iopub.status.busy": "2023-08-24T18:28:02.901520Z",
     "iopub.status.idle": "2023-08-24T18:28:02.918554Z",
     "shell.execute_reply": "2023-08-24T18:28:02.917630Z"
    },
    "papermill": {
     "duration": 0.024657,
     "end_time": "2023-08-24T18:28:02.920300",
     "exception": false,
     "start_time": "2023-08-24T18:28:02.895643",
     "status": "completed"
    },
    "tags": []
   },
   "outputs": [
    {
     "data": {
      "text/plain": [
       "A    float16\n",
       "B    float64\n",
       "C      uint8\n",
       "dtype: object"
      ]
     },
     "execution_count": 3,
     "metadata": {},
     "output_type": "execute_result"
    }
   ],
   "source": [
    "#reindex-like data type:\n",
    "\n",
    "df1 = pd.DataFrame(np.random.randn(8, 1), columns=[\"A\"], dtype=\"float32\")\n",
    "\n",
    "\n",
    "df2 = pd.DataFrame(\n",
    "    {\n",
    "        \"A\": pd.Series(np.random.randn(8), dtype=\"float16\"),\n",
    "        \"B\": pd.Series(np.random.randn(8)),\n",
    "        \"C\": pd.Series(np.random.randint(0, 255, size=8), dtype=\"uint8\"),\n",
    "    }\n",
    ")\n",
    "df3 = df1.reindex_like(df2).fillna(value=0.0) + df2\n",
    "\n",
    "\n",
    "df2.dtypes\n"
   ]
  },
  {
   "cell_type": "code",
   "execution_count": 4,
   "id": "166bd7d1",
   "metadata": {
    "execution": {
     "iopub.execute_input": "2023-08-24T18:28:02.930166Z",
     "iopub.status.busy": "2023-08-24T18:28:02.929809Z",
     "iopub.status.idle": "2023-08-24T18:28:02.937439Z",
     "shell.execute_reply": "2023-08-24T18:28:02.936482Z"
    },
    "papermill": {
     "duration": 0.014454,
     "end_time": "2023-08-24T18:28:02.939035",
     "exception": false,
     "start_time": "2023-08-24T18:28:02.924581",
     "status": "completed"
    },
    "tags": []
   },
   "outputs": [
    {
     "data": {
      "text/plain": [
       "A    float32\n",
       "B    float64\n",
       "C    float64\n",
       "dtype: object"
      ]
     },
     "execution_count": 4,
     "metadata": {},
     "output_type": "execute_result"
    }
   ],
   "source": [
    "df3.dtypes"
   ]
  },
  {
   "cell_type": "code",
   "execution_count": 5,
   "id": "312114d0",
   "metadata": {
    "execution": {
     "iopub.execute_input": "2023-08-24T18:28:02.949335Z",
     "iopub.status.busy": "2023-08-24T18:28:02.948885Z",
     "iopub.status.idle": "2023-08-24T18:28:02.956426Z",
     "shell.execute_reply": "2023-08-24T18:28:02.955543Z"
    },
    "papermill": {
     "duration": 0.01494,
     "end_time": "2023-08-24T18:28:02.958277",
     "exception": false,
     "start_time": "2023-08-24T18:28:02.943337",
     "status": "completed"
    },
    "tags": []
   },
   "outputs": [
    {
     "data": {
      "text/plain": [
       "A    float32\n",
       "B    float32\n",
       "C    float32\n",
       "dtype: object"
      ]
     },
     "execution_count": 5,
     "metadata": {},
     "output_type": "execute_result"
    }
   ],
   "source": [
    "#astype\n",
    "\n",
    "df3.astype(\"float32\").dtypes"
   ]
  },
  {
   "cell_type": "code",
   "execution_count": 6,
   "id": "abe5f08e",
   "metadata": {
    "execution": {
     "iopub.execute_input": "2023-08-24T18:28:02.968764Z",
     "iopub.status.busy": "2023-08-24T18:28:02.968390Z",
     "iopub.status.idle": "2023-08-24T18:28:04.164115Z",
     "shell.execute_reply": "2023-08-24T18:28:04.162670Z"
    },
    "papermill": {
     "duration": 1.20371,
     "end_time": "2023-08-24T18:28:04.166456",
     "exception": false,
     "start_time": "2023-08-24T18:28:02.962746",
     "status": "completed"
    },
    "tags": []
   },
   "outputs": [
    {
     "name": "stderr",
     "output_type": "stream",
     "text": [
      "/opt/conda/lib/python3.10/site-packages/scipy/__init__.py:146: UserWarning: A NumPy version >=1.16.5 and <1.23.0 is required for this version of SciPy (detected version 1.23.5\n",
      "  warnings.warn(f\"A NumPy version >={np_minversion} and <{np_maxversion}\"\n"
     ]
    }
   ],
   "source": [
    "\n",
    "#Scikit learn supports Ordinal data with\n",
    "\n",
    "from sklearn.preprocessing import OrdinalEncoder"
   ]
  },
  {
   "cell_type": "code",
   "execution_count": 7,
   "id": "bb23848e",
   "metadata": {
    "execution": {
     "iopub.execute_input": "2023-08-24T18:28:04.179117Z",
     "iopub.status.busy": "2023-08-24T18:28:04.178116Z",
     "iopub.status.idle": "2023-08-24T18:28:04.195514Z",
     "shell.execute_reply": "2023-08-24T18:28:04.194538Z"
    },
    "papermill": {
     "duration": 0.026134,
     "end_time": "2023-08-24T18:28:04.197919",
     "exception": false,
     "start_time": "2023-08-24T18:28:04.171785",
     "status": "completed"
    },
    "tags": []
   },
   "outputs": [],
   "source": [
    "\n",
    "dfnew = pd.DataFrame(\n",
    "    {\n",
    "        'No': (1,2,3,4,5,6),\n",
    "        'Name': ('tom','ram','jany','rach','joey','peter'),\n",
    "        'S': ('M','F','o','M','F','M'),\n",
    "        'Blood':('a','b','o','o','b','b'),\n",
    "        'Grade':('A','A','B','A','B','D'),\n",
    "        'Height':(123,123,123,154,154,154),\n",
    "        'Study':('Maths','Social','Maths','Social','Maths','Social')\n",
    "    })\n",
    "        \n",
    "\n",
    "\n",
    "\n",
    "enc = OrdinalEncoder()\n",
    "enc.fit(dfnew[[\"S\",\"Blood\", \"Grade\",\"Study\"]])\n",
    "dfnew[[\"S\",\"Blood\",\"Grade\",\"Study\"]] = enc.transform(dfnew[[\"S\",\"Blood\",\"Grade\",\"Study\"]])"
   ]
  },
  {
   "cell_type": "code",
   "execution_count": 8,
   "id": "6670556f",
   "metadata": {
    "execution": {
     "iopub.execute_input": "2023-08-24T18:28:04.209179Z",
     "iopub.status.busy": "2023-08-24T18:28:04.208802Z",
     "iopub.status.idle": "2023-08-24T18:28:04.227698Z",
     "shell.execute_reply": "2023-08-24T18:28:04.226370Z"
    },
    "papermill": {
     "duration": 0.027517,
     "end_time": "2023-08-24T18:28:04.230245",
     "exception": false,
     "start_time": "2023-08-24T18:28:04.202728",
     "status": "completed"
    },
    "tags": []
   },
   "outputs": [
    {
     "data": {
      "text/html": [
       "<div>\n",
       "<style scoped>\n",
       "    .dataframe tbody tr th:only-of-type {\n",
       "        vertical-align: middle;\n",
       "    }\n",
       "\n",
       "    .dataframe tbody tr th {\n",
       "        vertical-align: top;\n",
       "    }\n",
       "\n",
       "    .dataframe thead th {\n",
       "        text-align: right;\n",
       "    }\n",
       "</style>\n",
       "<table border=\"1\" class=\"dataframe\">\n",
       "  <thead>\n",
       "    <tr style=\"text-align: right;\">\n",
       "      <th></th>\n",
       "      <th>No</th>\n",
       "      <th>Name</th>\n",
       "      <th>S</th>\n",
       "      <th>Blood</th>\n",
       "      <th>Grade</th>\n",
       "      <th>Height</th>\n",
       "      <th>Study</th>\n",
       "    </tr>\n",
       "  </thead>\n",
       "  <tbody>\n",
       "    <tr>\n",
       "      <th>0</th>\n",
       "      <td>1</td>\n",
       "      <td>tom</td>\n",
       "      <td>1.0</td>\n",
       "      <td>0.0</td>\n",
       "      <td>0.0</td>\n",
       "      <td>123</td>\n",
       "      <td>0.0</td>\n",
       "    </tr>\n",
       "    <tr>\n",
       "      <th>1</th>\n",
       "      <td>2</td>\n",
       "      <td>ram</td>\n",
       "      <td>0.0</td>\n",
       "      <td>1.0</td>\n",
       "      <td>0.0</td>\n",
       "      <td>123</td>\n",
       "      <td>1.0</td>\n",
       "    </tr>\n",
       "    <tr>\n",
       "      <th>2</th>\n",
       "      <td>3</td>\n",
       "      <td>jany</td>\n",
       "      <td>2.0</td>\n",
       "      <td>2.0</td>\n",
       "      <td>1.0</td>\n",
       "      <td>123</td>\n",
       "      <td>0.0</td>\n",
       "    </tr>\n",
       "    <tr>\n",
       "      <th>3</th>\n",
       "      <td>4</td>\n",
       "      <td>rach</td>\n",
       "      <td>1.0</td>\n",
       "      <td>2.0</td>\n",
       "      <td>0.0</td>\n",
       "      <td>154</td>\n",
       "      <td>1.0</td>\n",
       "    </tr>\n",
       "    <tr>\n",
       "      <th>4</th>\n",
       "      <td>5</td>\n",
       "      <td>joey</td>\n",
       "      <td>0.0</td>\n",
       "      <td>1.0</td>\n",
       "      <td>1.0</td>\n",
       "      <td>154</td>\n",
       "      <td>0.0</td>\n",
       "    </tr>\n",
       "    <tr>\n",
       "      <th>5</th>\n",
       "      <td>6</td>\n",
       "      <td>peter</td>\n",
       "      <td>1.0</td>\n",
       "      <td>1.0</td>\n",
       "      <td>2.0</td>\n",
       "      <td>154</td>\n",
       "      <td>1.0</td>\n",
       "    </tr>\n",
       "  </tbody>\n",
       "</table>\n",
       "</div>"
      ],
      "text/plain": [
       "   No   Name    S  Blood  Grade  Height  Study\n",
       "0   1    tom  1.0    0.0    0.0     123    0.0\n",
       "1   2    ram  0.0    1.0    0.0     123    1.0\n",
       "2   3   jany  2.0    2.0    1.0     123    0.0\n",
       "3   4   rach  1.0    2.0    0.0     154    1.0\n",
       "4   5   joey  0.0    1.0    1.0     154    0.0\n",
       "5   6  peter  1.0    1.0    2.0     154    1.0"
      ]
     },
     "execution_count": 8,
     "metadata": {},
     "output_type": "execute_result"
    }
   ],
   "source": [
    "dfnew"
   ]
  },
  {
   "cell_type": "code",
   "execution_count": 9,
   "id": "3fe5499a",
   "metadata": {
    "execution": {
     "iopub.execute_input": "2023-08-24T18:28:04.242855Z",
     "iopub.status.busy": "2023-08-24T18:28:04.242526Z",
     "iopub.status.idle": "2023-08-24T18:28:15.322519Z",
     "shell.execute_reply": "2023-08-24T18:28:15.321323Z"
    },
    "papermill": {
     "duration": 11.088687,
     "end_time": "2023-08-24T18:28:15.325123",
     "exception": false,
     "start_time": "2023-08-24T18:28:04.236436",
     "status": "completed"
    },
    "tags": []
   },
   "outputs": [
    {
     "name": "stdout",
     "output_type": "stream",
     "text": [
      "Collecting wquantiles\r\n",
      "  Downloading wquantiles-0.6-py3-none-any.whl (3.3 kB)\r\n",
      "Requirement already satisfied: numpy>=1.18 in /opt/conda/lib/python3.10/site-packages (from wquantiles) (1.23.5)\r\n",
      "Installing collected packages: wquantiles\r\n",
      "Successfully installed wquantiles-0.6\r\n"
     ]
    }
   ],
   "source": [
    "!pip install wquantiles"
   ]
  },
  {
   "cell_type": "code",
   "execution_count": 10,
   "id": "a1089949",
   "metadata": {
    "execution": {
     "iopub.execute_input": "2023-08-24T18:28:15.336936Z",
     "iopub.status.busy": "2023-08-24T18:28:15.336597Z",
     "iopub.status.idle": "2023-08-24T18:28:15.352392Z",
     "shell.execute_reply": "2023-08-24T18:28:15.351203Z"
    },
    "papermill": {
     "duration": 0.024904,
     "end_time": "2023-08-24T18:28:15.355031",
     "exception": false,
     "start_time": "2023-08-24T18:28:15.330127",
     "status": "completed"
    },
    "tags": []
   },
   "outputs": [
    {
     "data": {
      "text/plain": [
       "154.0"
      ]
     },
     "execution_count": 10,
     "metadata": {},
     "output_type": "execute_result"
    }
   ],
   "source": [
    "#Mean\n",
    "\n",
    "dfnew['Height'].mean()\n",
    "dfnew['Height'].median()\n",
    "\n",
    "from scipy.stats import trim_mean\n",
    "trim_mean(dfnew['Height'],0.1)\n",
    "\n",
    "import wquantiles\n",
    "np.average(dfnew['Height'],weights=dfnew['No'])\n",
    "wquantiles.median(dfnew['Height'],weights=dfnew['No'])\n",
    "\n",
    "\n"
   ]
  },
  {
   "cell_type": "code",
   "execution_count": 11,
   "id": "14bb7718",
   "metadata": {
    "execution": {
     "iopub.execute_input": "2023-08-24T18:28:15.367745Z",
     "iopub.status.busy": "2023-08-24T18:28:15.367323Z",
     "iopub.status.idle": "2023-08-24T18:28:15.376985Z",
     "shell.execute_reply": "2023-08-24T18:28:15.375329Z"
    },
    "papermill": {
     "duration": 0.018358,
     "end_time": "2023-08-24T18:28:15.379255",
     "exception": false,
     "start_time": "2023-08-24T18:28:15.360897",
     "status": "completed"
    },
    "tags": []
   },
   "outputs": [
    {
     "data": {
      "text/plain": [
       "0.05    123.0\n",
       "0.25    123.0\n",
       "0.50    138.5\n",
       "0.75    154.0\n",
       "Name: Height, dtype: float64"
      ]
     },
     "execution_count": 11,
     "metadata": {},
     "output_type": "execute_result"
    }
   ],
   "source": [
    "#percentiles\n",
    "\n",
    "\n",
    "\n",
    "dfnew['Height'].quantile([0.05,0.25,0.5,0.75])"
   ]
  },
  {
   "cell_type": "code",
   "execution_count": 12,
   "id": "7276164b",
   "metadata": {
    "execution": {
     "iopub.execute_input": "2023-08-24T18:28:15.391602Z",
     "iopub.status.busy": "2023-08-24T18:28:15.391240Z",
     "iopub.status.idle": "2023-08-24T18:28:15.593066Z",
     "shell.execute_reply": "2023-08-24T18:28:15.592131Z"
    },
    "papermill": {
     "duration": 0.210299,
     "end_time": "2023-08-24T18:28:15.595022",
     "exception": false,
     "start_time": "2023-08-24T18:28:15.384723",
     "status": "completed"
    },
    "tags": []
   },
   "outputs": [
    {
     "data": {
      "image/png": "[encoded data removed]",
      "text/plain": [
       "<Figure size 640x480 with 1 Axes>"
      ]
     },
     "metadata": {},
     "output_type": "display_data"
    }
   ],
   "source": [
    "#Boxplots\n",
    "\n",
    "ax = dfnew['Height'].plot.box()\n",
    "ax.set_label('Heights')"
   ]
  },
  {
   "cell_type": "code",
   "execution_count": 13,
   "id": "6e1304ce",
   "metadata": {
    "execution": {
     "iopub.execute_input": "2023-08-24T18:28:15.607757Z",
     "iopub.status.busy": "2023-08-24T18:28:15.607179Z",
     "iopub.status.idle": "2023-08-24T18:28:15.628911Z",
     "shell.execute_reply": "2023-08-24T18:28:15.627841Z"
    },
    "papermill": {
     "duration": 0.030282,
     "end_time": "2023-08-24T18:28:15.630884",
     "exception": false,
     "start_time": "2023-08-24T18:28:15.600602",
     "status": "completed"
    },
    "tags": []
   },
   "outputs": [
    {
     "data": {
      "text/plain": [
       "(122.969, 133.333]    3\n",
       "(143.667, 154.0]      3\n",
       "(133.333, 143.667]    0\n",
       "Name: Height, dtype: int64"
      ]
     },
     "execution_count": 13,
     "metadata": {},
     "output_type": "execute_result"
    }
   ],
   "source": [
    "#Frequency table\n",
    "\n",
    "\n",
    "binnedheights = pd.cut(dfnew['Height'],3)\n",
    "binnedheights.value_counts()"
   ]
  },
  {
   "cell_type": "code",
   "execution_count": 14,
   "id": "f523611e",
   "metadata": {
    "execution": {
     "iopub.execute_input": "2023-08-24T18:28:15.643616Z",
     "iopub.status.busy": "2023-08-24T18:28:15.643279Z",
     "iopub.status.idle": "2023-08-24T18:28:15.829140Z",
     "shell.execute_reply": "2023-08-24T18:28:15.827878Z"
    },
    "papermill": {
     "duration": 0.194826,
     "end_time": "2023-08-24T18:28:15.831115",
     "exception": false,
     "start_time": "2023-08-24T18:28:15.636289",
     "status": "completed"
    },
    "tags": []
   },
   "outputs": [
    {
     "data": {
      "text/plain": [
       "Text(0.5, 0, 'heights')"
      ]
     },
     "execution_count": 14,
     "metadata": {},
     "output_type": "execute_result"
    },
    {
     "data": {
      "image/png": "[encoded data removed]",
      "text/plain": [
       "<Figure size 400x400 with 1 Axes>"
      ]
     },
     "metadata": {},
     "output_type": "display_data"
    }
   ],
   "source": [
    "ax = (dfnew['Height'].plot.hist(figsize=(4,4)))\n",
    "ax.set_xlabel('heights')"
   ]
  },
  {
   "cell_type": "code",
   "execution_count": 15,
   "id": "dbe58e4b",
   "metadata": {
    "execution": {
     "iopub.execute_input": "2023-08-24T18:28:15.843941Z",
     "iopub.status.busy": "2023-08-24T18:28:15.843593Z",
     "iopub.status.idle": "2023-08-24T18:28:16.044982Z",
     "shell.execute_reply": "2023-08-24T18:28:16.043504Z"
    },
    "papermill": {
     "duration": 0.210349,
     "end_time": "2023-08-24T18:28:16.047355",
     "exception": false,
     "start_time": "2023-08-24T18:28:15.837006",
     "status": "completed"
    },
    "tags": []
   },
   "outputs": [
    {
     "name": "stderr",
     "output_type": "stream",
     "text": [
      "/opt/conda/lib/python3.10/site-packages/numpy/lib/histograms.py:906: RuntimeWarning: invalid value encountered in divide\n",
      "  return n/db/n.sum(), bin_edges\n"
     ]
    },
    {
     "data": {
      "text/plain": [
       "Text(0.5, 0, 'Height')"
      ]
     },
     "execution_count": 15,
     "metadata": {},
     "output_type": "execute_result"
    },
    {
     "data": {
      "image/png": "[encoded data removed]",
      "text/plain": [
       "<Figure size 640x480 with 1 Axes>"
      ]
     },
     "metadata": {},
     "output_type": "display_data"
    }
   ],
   "source": [
    "#Desity plots\n",
    "\n",
    "ax = dfnew['Height'].plot.hist(density=True,bins=range(1,3))\n",
    "dfnew['Height'].plot.density(ax=ax)\n",
    "ax.set_xlabel('Height')"
   ]
  },
  {
   "cell_type": "code",
   "execution_count": 16,
   "id": "d096de48",
   "metadata": {
    "execution": {
     "iopub.execute_input": "2023-08-24T18:28:16.062468Z",
     "iopub.status.busy": "2023-08-24T18:28:16.062098Z",
     "iopub.status.idle": "2023-08-24T18:28:16.066827Z",
     "shell.execute_reply": "2023-08-24T18:28:16.065701Z"
    },
    "papermill": {
     "duration": 0.014142,
     "end_time": "2023-08-24T18:28:16.068614",
     "exception": false,
     "start_time": "2023-08-24T18:28:16.054472",
     "status": "completed"
    },
    "tags": []
   },
   "outputs": [],
   "source": [
    "#etfs <- sp500_px[row.names(sp500_px)>'2012-07-01', sp500_sym[sp500_sym$sector == 'etf','symbol']]\n",
    "\n",
    "#First queue"
   ]
  },
  {
   "cell_type": "code",
   "execution_count": 17,
   "id": "97edfb48",
   "metadata": {
    "execution": {
     "iopub.execute_input": "2023-08-24T18:28:16.082924Z",
     "iopub.status.busy": "2023-08-24T18:28:16.082571Z",
     "iopub.status.idle": "2023-08-24T18:28:16.088502Z",
     "shell.execute_reply": "2023-08-24T18:28:16.086828Z"
    },
    "papermill": {
     "duration": 0.015985,
     "end_time": "2023-08-24T18:28:16.091014",
     "exception": false,
     "start_time": "2023-08-24T18:28:16.075029",
     "status": "completed"
    },
    "tags": []
   },
   "outputs": [],
   "source": [
    "#barplot(as.matrix(dfw)) / 6, cex.axis= 0.8, cex.name=0.7,xlab='Cause of delay',ylab='Count')\n",
    "\n",
    "#ax.dwf.transpose().plot.bar(figsize=(4,4),legend=False)\n",
    "#ax.set_xlabel('Count')"
   ]
  }
 ],
 "metadata": {
  "kernelspec": {
   "display_name": "Python 3",
   "language": "python",
   "name": "python3"
  },
  "language_info": {
   "codemirror_mode": {
    "name": "ipython",
    "version": 3
   },
   "file_extension": ".py",
   "mimetype": "text/x-python",
   "name": "python",
   "nbconvert_exporter": "python",
   "pygments_lexer": "ipython3",
   "version": "3.10.12"
  },
  "papermill": {
   "default_parameters": {},
   "duration": 22.774116,
   "end_time": "2023-08-24T18:28:17.021251",
   "environment_variables": {},
   "exception": null,
   "input_path": "__notebook__.ipynb",
   "output_path": "__notebook__.ipynb",
   "parameters": {},
   "start_time": "2023-08-24T18:27:54.247135",
   "version": "2.4.0"
  }
 },
 "nbformat": 4,
 "nbformat_minor": 5
}
